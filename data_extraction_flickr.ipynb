{
  "nbformat": 4,
  "nbformat_minor": 0,
  "metadata": {
    "colab": {
      "name": "data-extraction-flickr.ipynb",
      "provenance": [],
      "collapsed_sections": [],
      "authorship_tag": "ABX9TyMaHH+iEStUDdtuufXwSI30",
      "include_colab_link": true
    },
    "kernelspec": {
      "name": "python3",
      "display_name": "Python 3"
    }
  },
  "cells": [
    {
      "cell_type": "markdown",
      "metadata": {
        "id": "view-in-github",
        "colab_type": "text"
      },
      "source": [
        "<a href=\"https://colab.research.google.com/github/Agewerc/Tourism-Analytics/blob/master/data_extraction_flickr.ipynb\" target=\"_parent\"><img src=\"https://colab.research.google.com/assets/colab-badge.svg\" alt=\"Open In Colab\"/></a>"
      ]
    },
    {
      "cell_type": "markdown",
      "metadata": {
        "id": "dWFOk508KCsW",
        "colab_type": "text"
      },
      "source": [
        "# Extracting Data from Flickr \n",
        "\n",
        "#### 1. Mount the folder\n"
      ]
    },
    {
      "cell_type": "code",
      "metadata": {
        "id": "VtIatr1JJQEn",
        "colab_type": "code",
        "colab": {
          "base_uri": "https://localhost:8080/",
          "height": 130
        },
        "outputId": "fc236f16-4d8b-4719-9642-8dfcce53cdd0"
      },
      "source": [
        "from google.colab import drive\n",
        "drive.mount('/content/gdrive')"
      ],
      "execution_count": 2,
      "outputs": [
        {
          "output_type": "stream",
          "text": [
            "Go to this URL in a browser: https://accounts.google.com/o/oauth2/auth?client_id=947318989803-6bn6qk8qdgf4n4g3pfee6491hc0brc4i.apps.googleusercontent.com&redirect_uri=urn%3aietf%3awg%3aoauth%3a2.0%3aoob&response_type=code&scope=email%20https%3a%2f%2fwww.googleapis.com%2fauth%2fdocs.test%20https%3a%2f%2fwww.googleapis.com%2fauth%2fdrive%20https%3a%2f%2fwww.googleapis.com%2fauth%2fdrive.photos.readonly%20https%3a%2f%2fwww.googleapis.com%2fauth%2fpeopleapi.readonly\n",
            "\n",
            "Enter your authorization code:\n",
            "··········\n",
            "Mounted at /content/gdrive\n"
          ],
          "name": "stdout"
        }
      ]
    },
    {
      "cell_type": "markdown",
      "metadata": {
        "id": "aUBYxCxaKpOn",
        "colab_type": "text"
      },
      "source": [
        "#### 2. Move Folder"
      ]
    },
    {
      "cell_type": "code",
      "metadata": {
        "id": "eQmlwggAKZEz",
        "colab_type": "code",
        "colab": {}
      },
      "source": [
        "import os\n",
        "os.chdir('/content/gdrive/My Drive/Monash/FIT5147 - Data Visualisation')"
      ],
      "execution_count": 3,
      "outputs": []
    },
    {
      "cell_type": "markdown",
      "metadata": {
        "id": "BMxIcULMLE3C",
        "colab_type": "text"
      },
      "source": [
        "#### 3. Install, import and set Flickr API"
      ]
    },
    {
      "cell_type": "code",
      "metadata": {
        "id": "t3QJ8DIQLAQe",
        "colab_type": "code",
        "colab": {
          "base_uri": "https://localhost:8080/",
          "height": 297
        },
        "outputId": "f84756f8-225b-47ce-eaa0-ef9bbf5192eb"
      },
      "source": [
        "!pip install FlickrAPI"
      ],
      "execution_count": 4,
      "outputs": [
        {
          "output_type": "stream",
          "text": [
            "Collecting FlickrAPI\n",
            "  Downloading https://files.pythonhosted.org/packages/76/d7/291b7f0f02cf0f59460f7bcc15192905b4c61e13b9fb9263ee86b0a5f647/flickrapi-2.4.0-py2.py3-none-any.whl\n",
            "Requirement already satisfied: requests>=2.2.1 in /usr/local/lib/python3.6/dist-packages (from FlickrAPI) (2.23.0)\n",
            "Requirement already satisfied: six>=1.5.2 in /usr/local/lib/python3.6/dist-packages (from FlickrAPI) (1.15.0)\n",
            "Requirement already satisfied: requests-oauthlib>=0.4.0 in /usr/local/lib/python3.6/dist-packages (from FlickrAPI) (1.3.0)\n",
            "Collecting requests-toolbelt>=0.3.1\n",
            "\u001b[?25l  Downloading https://files.pythonhosted.org/packages/60/ef/7681134338fc097acef8d9b2f8abe0458e4d87559c689a8c306d0957ece5/requests_toolbelt-0.9.1-py2.py3-none-any.whl (54kB)\n",
            "\u001b[K     |████████████████████████████████| 61kB 2.9MB/s \n",
            "\u001b[?25hRequirement already satisfied: idna<3,>=2.5 in /usr/local/lib/python3.6/dist-packages (from requests>=2.2.1->FlickrAPI) (2.10)\n",
            "Requirement already satisfied: chardet<4,>=3.0.2 in /usr/local/lib/python3.6/dist-packages (from requests>=2.2.1->FlickrAPI) (3.0.4)\n",
            "Requirement already satisfied: certifi>=2017.4.17 in /usr/local/lib/python3.6/dist-packages (from requests>=2.2.1->FlickrAPI) (2020.6.20)\n",
            "Requirement already satisfied: urllib3!=1.25.0,!=1.25.1,<1.26,>=1.21.1 in /usr/local/lib/python3.6/dist-packages (from requests>=2.2.1->FlickrAPI) (1.24.3)\n",
            "Requirement already satisfied: oauthlib>=3.0.0 in /usr/local/lib/python3.6/dist-packages (from requests-oauthlib>=0.4.0->FlickrAPI) (3.1.0)\n",
            "Installing collected packages: requests-toolbelt, FlickrAPI\n",
            "Successfully installed FlickrAPI-2.4.0 requests-toolbelt-0.9.1\n"
          ],
          "name": "stdout"
        }
      ]
    },
    {
      "cell_type": "code",
      "metadata": {
        "id": "W27JTi2rLe4r",
        "colab_type": "code",
        "colab": {}
      },
      "source": [
        "from flickrapi import FlickrAPI"
      ],
      "execution_count": 5,
      "outputs": []
    },
    {
      "cell_type": "code",
      "metadata": {
        "id": "w9TzMHvKLfgt",
        "colab_type": "code",
        "colab": {}
      },
      "source": [
        "flickr = FlickrAPI('f6409b1fe337cb49665649f08ea8b10b', '34ed76d5ebc8645e', format='parsed-json')"
      ],
      "execution_count": 6,
      "outputs": []
    },
    {
      "cell_type": "markdown",
      "metadata": {
        "id": "FvpLIzudRgbL",
        "colab_type": "text"
      },
      "source": [
        "# Relevant Information\n",
        "\n",
        "1. URL of the picture\n",
        "2. Geolocation\n",
        "3. Tittle\n",
        "4. Number of faves, views\n",
        "5. Nationality of Users\n",
        "\n",
        "We use the method ` flickr.photos.search` to find information about all images that can be found in the bounding box.\n",
        "\n"
      ]
    },
    {
      "cell_type": "code",
      "metadata": {
        "id": "uCx2r5I5o8lS",
        "colab_type": "code",
        "colab": {}
      },
      "source": [
        "images = flickr.photos.search(bbox ='112.60,-36.06,129.10,-13.10', accuracy = 11 , has_geo=\"1\", per_page=250, page =1, extras = 'url_o')"
      ],
      "execution_count": 7,
      "outputs": []
    },
    {
      "cell_type": "code",
      "metadata": {
        "id": "E4zpWiq7sHfC",
        "colab_type": "code",
        "colab": {
          "base_uri": "https://localhost:8080/",
          "height": 73
        },
        "outputId": "509f78d9-4677-4cf2-fc29-06d317f613f0"
      },
      "source": [
        "print('Total number of images:', images['photos']['total'])\n",
        "print('Total number of pages:', images['photos']['pages'])\n",
        "print('Total number images per pages:', images['photos']['perpage'])\n"
      ],
      "execution_count": 29,
      "outputs": [
        {
          "output_type": "stream",
          "text": [
            "Total number of images: 729051\n",
            "Total number of pages: 2917\n",
            "Total number images per pages: 250\n"
          ],
          "name": "stdout"
        }
      ]
    },
    {
      "cell_type": "code",
      "metadata": {
        "id": "b6xHputOWHws",
        "colab_type": "code",
        "colab": {}
      },
      "source": [
        "id_list = []\n",
        "\n",
        "for page in range(2917):\n",
        "\n",
        "  images = flickr.photos.search(bbox ='112.60,-36.06,129.10,-13.10', accuracy = 11 , has_geo=\"1\", per_page=250, page = page, extras = 'url_o')\n",
        "\n",
        "  for image in range(250):\n",
        "  \n",
        "    id_list.append(images['photos']['photo'][image]['id'])"
      ],
      "execution_count": null,
      "outputs": []
    },
    {
      "cell_type": "code",
      "metadata": {
        "id": "8HExMH-MWH4F",
        "colab_type": "code",
        "colab": {}
      },
      "source": [
        ""
      ],
      "execution_count": null,
      "outputs": []
    },
    {
      "cell_type": "code",
      "metadata": {
        "id": "KoQwLb45WH84",
        "colab_type": "code",
        "colab": {}
      },
      "source": [
        ""
      ],
      "execution_count": null,
      "outputs": []
    },
    {
      "cell_type": "code",
      "metadata": {
        "id": "FV4Bi3w7WH6y",
        "colab_type": "code",
        "colab": {}
      },
      "source": [
        ""
      ],
      "execution_count": null,
      "outputs": []
    },
    {
      "cell_type": "code",
      "metadata": {
        "id": "Yt6tx2YKW8Y0",
        "colab_type": "code",
        "colab": {}
      },
      "source": [
        ""
      ],
      "execution_count": null,
      "outputs": []
    },
    {
      "cell_type": "code",
      "metadata": {
        "id": "H9E5jsIlW8eP",
        "colab_type": "code",
        "colab": {}
      },
      "source": [
        ""
      ],
      "execution_count": null,
      "outputs": []
    },
    {
      "cell_type": "code",
      "metadata": {
        "id": "danDZfXSW8jr",
        "colab_type": "code",
        "colab": {}
      },
      "source": [
        ""
      ],
      "execution_count": null,
      "outputs": []
    },
    {
      "cell_type": "code",
      "metadata": {
        "id": "gaiwozarW8hV",
        "colab_type": "code",
        "colab": {}
      },
      "source": [
        ""
      ],
      "execution_count": null,
      "outputs": []
    },
    {
      "cell_type": "code",
      "metadata": {
        "id": "Or7p246qW8bp",
        "colab_type": "code",
        "colab": {}
      },
      "source": [
        ""
      ],
      "execution_count": null,
      "outputs": []
    },
    {
      "cell_type": "code",
      "metadata": {
        "id": "B0mrKjiksHqq",
        "colab_type": "code",
        "colab": {}
      },
      "source": [
        "image1 = flickr.photos.getInfo(photo_id ='50190980948')"
      ],
      "execution_count": 26,
      "outputs": []
    },
    {
      "cell_type": "code",
      "metadata": {
        "id": "ky-GqKf4pveo",
        "colab_type": "code",
        "colab": {}
      },
      "source": [
        ""
      ],
      "execution_count": null,
      "outputs": []
    }
  ]
}